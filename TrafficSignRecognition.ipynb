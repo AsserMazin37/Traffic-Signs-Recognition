{
 "cells": [
  {
   "cell_type": "code",
   "execution_count": 4,
   "metadata": {},
   "outputs": [
    {
     "name": "stderr",
     "output_type": "stream",
     "text": [
      "Using TensorFlow backend.\n"
     ]
    }
   ],
   "source": [
    "import numpy as np \n",
    "import pandas as pd \n",
    "import matplotlib.pyplot as plt\n",
    "import cv2\n",
    "import tensorflow as tf\n",
    "from PIL import Image\n",
    "import os\n",
    "from sklearn.model_selection import train_test_split\n",
    "from keras.utils import to_categorical\n",
    "from keras.models import Sequential, load_model\n",
    "from keras.layers import Conv2D, MaxPool2D, Dense, Flatten, Dropout"
   ]
  },
  {
   "cell_type": "code",
   "execution_count": 6,
   "metadata": {},
   "outputs": [],
   "source": [
    "data = []\n",
    "labels = []\n",
    "classes = 43\n",
    "cur_path = os.getcwd() + \"\\\\\" + \"archive\"\n",
    "\n",
    "# Retrieving the images and their labels \n",
    "for i in range(classes):\n",
    "    path = os.path.join(cur_path,'train',str(i))\n",
    "    images = os.listdir(path)\n",
    "\n",
    "    for a in images:\n",
    "        try:\n",
    "            image = Image.open(path + '\\\\'+ a)\n",
    "            image = image.resize((30, 30))\n",
    "            image = np.array(image)\n",
    "            data.append(image)\n",
    "            labels.append(i)\n",
    "        except:\n",
    "            print(\"Error loading image\")"
   ]
  },
  {
   "cell_type": "code",
   "execution_count": 7,
   "metadata": {},
   "outputs": [
    {
     "name": "stdout",
     "output_type": "stream",
     "text": [
      "(39209, 30, 30, 3) (39209,)\n"
     ]
    }
   ],
   "source": [
    "# Converting lists into numpy arrays\n",
    "data = np.array(data)\n",
    "labels = np.array(labels)\n",
    "\n",
    "print(data.shape, labels.shape)"
   ]
  },
  {
   "cell_type": "code",
   "execution_count": 8,
   "metadata": {},
   "outputs": [
    {
     "name": "stdout",
     "output_type": "stream",
     "text": [
      "(31367, 30, 30, 3) (7842, 30, 30, 3) (31367,) (7842,)\n"
     ]
    }
   ],
   "source": [
    "# Splitting data to training and testing\n",
    "X_train, X_test, y_train, y_test = train_test_split(data, labels, test_size = 0.2, random_state = 42)\n",
    "\n",
    "print(X_train.shape, X_test.shape, y_train.shape, y_test.shape)"
   ]
  },
  {
   "cell_type": "code",
   "execution_count": 9,
   "metadata": {},
   "outputs": [],
   "source": [
    "# Converting the labels into one hot encoding\n",
    "y_train = to_categorical(y_train, 43)\n",
    "y_test = to_categorical(y_test, 43)"
   ]
  },
  {
   "cell_type": "code",
   "execution_count": 10,
   "metadata": {},
   "outputs": [],
   "source": [
    "# Building the model\n",
    "model = Sequential()\n",
    "model.add(Conv2D(32, kernel_size = (5, 5), activation = 'relu', input_shape = X_train.shape[1:]))\n",
    "model.add(Conv2D(32, kernel_size = (5, 5), activation = 'relu'))\n",
    "model.add(MaxPool2D((2, 2)))\n",
    "model.add(Dropout(0.25))\n",
    "model.add(Conv2D(64, kernel_size = (3, 3), activation = 'relu'))\n",
    "model.add(Conv2D(64, kernel_size = (3, 3), activation = 'relu'))\n",
    "model.add(MaxPool2D((2, 2)))\n",
    "model.add(Dropout(0.25))\n",
    "model.add(Flatten())\n",
    "model.add(Dense(256, activation = 'relu'))\n",
    "model.add(Dropout(0.5))\n",
    "model.add(Dense(43, activation = 'softmax'))\n",
    "\n",
    "# Compilation of the model\n",
    "model.compile(loss = 'categorical_crossentropy', optimizer = 'adam', metrics = ['accuracy'])"
   ]
  },
  {
   "cell_type": "code",
   "execution_count": 11,
   "metadata": {},
   "outputs": [
    {
     "name": "stdout",
     "output_type": "stream",
     "text": [
      "Train on 31367 samples, validate on 7842 samples\n",
      "Epoch 1/15\n",
      "31367/31367 [==============================] - 75s 2ms/step - loss: 2.0295 - accuracy: 0.4791 - val_loss: 0.7308 - val_accuracy: 0.7970\n",
      "Epoch 2/15\n",
      "31367/31367 [==============================] - 86s 3ms/step - loss: 0.8862 - accuracy: 0.7311 - val_loss: 0.4475 - val_accuracy: 0.8703\n",
      "Epoch 3/15\n",
      "31367/31367 [==============================] - 85s 3ms/step - loss: 0.6344 - accuracy: 0.8035 - val_loss: 0.3845 - val_accuracy: 0.8912\n",
      "Epoch 4/15\n",
      "31367/31367 [==============================] - 89s 3ms/step - loss: 0.4989 - accuracy: 0.8474 - val_loss: 0.2360 - val_accuracy: 0.9366\n",
      "Epoch 5/15\n",
      "31367/31367 [==============================] - 89s 3ms/step - loss: 0.4034 - accuracy: 0.8771 - val_loss: 0.2082 - val_accuracy: 0.9364\n",
      "Epoch 6/15\n",
      "31367/31367 [==============================] - 92s 3ms/step - loss: 0.3778 - accuracy: 0.8864 - val_loss: 0.6386 - val_accuracy: 0.8055\n",
      "Epoch 7/15\n",
      "31367/31367 [==============================] - 87s 3ms/step - loss: 0.3523 - accuracy: 0.8967 - val_loss: 0.1494 - val_accuracy: 0.9537\n",
      "Epoch 8/15\n",
      "31367/31367 [==============================] - 86s 3ms/step - loss: 0.3052 - accuracy: 0.9084 - val_loss: 0.2242 - val_accuracy: 0.9500\n",
      "Epoch 9/15\n",
      "31367/31367 [==============================] - 87s 3ms/step - loss: 0.2923 - accuracy: 0.9136 - val_loss: 0.1451 - val_accuracy: 0.9528\n",
      "Epoch 10/15\n",
      "31367/31367 [==============================] - 87s 3ms/step - loss: 0.2819 - accuracy: 0.9189 - val_loss: 0.0912 - val_accuracy: 0.9716\n",
      "Epoch 11/15\n",
      "31367/31367 [==============================] - 89s 3ms/step - loss: 0.2664 - accuracy: 0.9228 - val_loss: 0.0995 - val_accuracy: 0.9693\n",
      "Epoch 12/15\n",
      "31367/31367 [==============================] - 89s 3ms/step - loss: 0.2687 - accuracy: 0.9229 - val_loss: 0.1306 - val_accuracy: 0.9596\n",
      "Epoch 13/15\n",
      "31367/31367 [==============================] - 87s 3ms/step - loss: 0.2602 - accuracy: 0.9271 - val_loss: 0.0923 - val_accuracy: 0.9718\n",
      "Epoch 14/15\n",
      "31367/31367 [==============================] - 85s 3ms/step - loss: 0.2558 - accuracy: 0.9280 - val_loss: 0.0804 - val_accuracy: 0.9769\n",
      "Epoch 15/15\n",
      "31367/31367 [==============================] - 87s 3ms/step - loss: 0.2515 - accuracy: 0.9306 - val_loss: 0.0850 - val_accuracy: 0.9745\n"
     ]
    }
   ],
   "source": [
    "epochs = 15\n",
    "history = model.fit(X_train, y_train, batch_size = 32, epochs = epochs, validation_data = (X_test, y_test), verbose = 1)"
   ]
  },
  {
   "cell_type": "code",
   "execution_count": 12,
   "metadata": {},
   "outputs": [],
   "source": [
    "model.save(\"my_model.h5\")"
   ]
  },
  {
   "cell_type": "code",
   "execution_count": 13,
   "metadata": {},
   "outputs": [
    {
     "data": {
      "image/png": "[encoded data removed]",
      "text/plain": [
       "<Figure size 432x288 with 1 Axes>"
      ]
     },
     "metadata": {
      "needs_background": "light"
     },
     "output_type": "display_data"
    },
    {
     "data": {
      "image/png": "[encoded data removed]",
      "text/plain": [
       "<Figure size 432x288 with 1 Axes>"
      ]
     },
     "metadata": {
      "needs_background": "light"
     },
     "output_type": "display_data"
    }
   ],
   "source": [
    "# Plotting graphs for accuracy \n",
    "plt.figure(0)\n",
    "plt.plot(history.history['accuracy'], label = 'training accuracy')\n",
    "plt.plot(history.history['val_accuracy'], label = 'val accuracy')\n",
    "plt.title('Accuracy')\n",
    "plt.xlabel('epochs')\n",
    "plt.ylabel('accuracy')\n",
    "plt.legend()\n",
    "plt.show()\n",
    "\n",
    "# Plotting graphs for loss\n",
    "plt.figure(1)\n",
    "plt.plot(history.history['loss'], label = 'training loss')\n",
    "plt.plot(history.history['val_loss'], label = 'val loss')\n",
    "plt.title('Loss')\n",
    "plt.xlabel('epochs')\n",
    "plt.ylabel('loss')\n",
    "plt.legend()\n",
    "plt.show()"
   ]
  },
  {
   "cell_type": "code",
   "execution_count": 21,
   "metadata": {},
   "outputs": [
    {
     "name": "stdout",
     "output_type": "stream",
     "text": [
      "0.942596991290578\n"
     ]
    }
   ],
   "source": [
    "# Testing accuracy on test dataset\n",
    "from sklearn.metrics import accuracy_score\n",
    "\n",
    "y_test = pd.read_csv(os.path.join(cur_path,'Test.csv'))\n",
    "\n",
    "labels = y_test[\"ClassId\"].values\n",
    "imgs = y_test[\"Path\"].values\n",
    "\n",
    "data = []\n",
    "\n",
    "for img in imgs:\n",
    "    image = Image.open(os.path.join(cur_path, img))\n",
    "    image = image.resize((30, 30))\n",
    "    data.append(np.array(image))\n",
    "\n",
    "X_test = np.array(data)\n",
    "\n",
    "pred = model.predict_classes(X_test)\n",
    "\n",
    "# Accuracy with the test data\n",
    "from sklearn.metrics import accuracy_score\n",
    "print(accuracy_score(labels, pred))\n",
    "\n",
    "model.save(\"traffic_classifier.h5\")"
   ]
  },
  {
   "cell_type": "code",
   "execution_count": null,
   "metadata": {},
   "outputs": [],
   "source": []
  }
 ],
 "metadata": {
  "kernelspec": {
   "display_name": "Python 3",
   "language": "python",
   "name": "python3"
  },
  "language_info": {
   "codemirror_mode": {
    "name": "ipython",
    "version": 3
   },
   "file_extension": ".py",
   "mimetype": "text/x-python",
   "name": "python",
   "nbconvert_exporter": "python",
   "pygments_lexer": "ipython3",
   "version": "3.7.4"
  }
 },
 "nbformat": 4,
 "nbformat_minor": 2
}
